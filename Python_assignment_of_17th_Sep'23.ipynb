{
  "nbformat": 4,
  "nbformat_minor": 0,
  "metadata": {
    "colab": {
      "provenance": []
    },
    "kernelspec": {
      "name": "python3",
      "display_name": "Python 3"
    },
    "language_info": {
      "name": "python"
    }
  },
  "cells": [
    {
      "cell_type": "code",
      "execution_count": null,
      "metadata": {
        "id": "TC9aBicXx2s-"
      },
      "outputs": [],
      "source": [
        "#Que number 1 Write a Python program to print numbers from 1 to 10 using a for loop.\n"
      ]
    },
    {
      "cell_type": "code",
      "source": [
        "for i in range(1, 11):\n",
        "    print(i)\n"
      ],
      "metadata": {
        "colab": {
          "base_uri": "https://localhost:8080/"
        },
        "id": "jiPp8QceyGQP",
        "outputId": "4dbcbbce-260f-4d9d-eacb-1143717cc3b0"
      },
      "execution_count": null,
      "outputs": [
        {
          "output_type": "stream",
          "name": "stdout",
          "text": [
            "1\n",
            "2\n",
            "3\n",
            "4\n",
            "5\n",
            "6\n",
            "7\n",
            "8\n",
            "9\n",
            "10\n"
          ]
        }
      ]
    },
    {
      "cell_type": "code",
      "source": [
        "#Que number 2 #Explain the difference between a for loop and a while loop in Python.\n"
      ],
      "metadata": {
        "id": "6KpLb5x3yNzm"
      },
      "execution_count": null,
      "outputs": []
    },
    {
      "cell_type": "code",
      "source": [
        "for i in range(1, 8):\n",
        "    print(i)\n"
      ],
      "metadata": {
        "colab": {
          "base_uri": "https://localhost:8080/"
        },
        "id": "uEKh9Z6qyVmK",
        "outputId": "31f19931-d8ed-445c-e89a-e10749bdb04a"
      },
      "execution_count": null,
      "outputs": [
        {
          "output_type": "stream",
          "name": "stdout",
          "text": [
            "1\n",
            "2\n",
            "3\n",
            "4\n",
            "5\n"
          ]
        }
      ]
    },
    {
      "cell_type": "code",
      "source": [
        "i = 1\n",
        "while i <= 7:\n",
        "    print(i)\n",
        "    i += 1\n"
      ],
      "metadata": {
        "colab": {
          "base_uri": "https://localhost:8080/"
        },
        "id": "xTDEUt0Sy8Kx",
        "outputId": "d2f913e4-6f10-4d8f-8a2c-6287e764a650"
      },
      "execution_count": null,
      "outputs": [
        {
          "output_type": "stream",
          "name": "stdout",
          "text": [
            "1\n",
            "2\n",
            "3\n",
            "4\n",
            "5\n",
            "6\n",
            "7\n"
          ]
        }
      ]
    },
    {
      "cell_type": "code",
      "source": [
        "#Que number 3 Write a Python program to calculate the sum of all numbers from 1 to 100 using a for loop.\n"
      ],
      "metadata": {
        "id": "s4Ctd_NEzFtP"
      },
      "execution_count": null,
      "outputs": []
    },
    {
      "cell_type": "code",
      "source": [
        "total = 0\n",
        "\n",
        "# Use a for loop to iterate from 1 to 100 (inclusive)\n",
        "for i in range(1, 101):\n",
        "    total += i  # Add the current number to the total\n",
        "\n",
        "print(\"The sum of all numbers from 1 to 100 is:\", total)\n"
      ],
      "metadata": {
        "colab": {
          "base_uri": "https://localhost:8080/"
        },
        "id": "yQ-nBH0fzt6J",
        "outputId": "0eb8736b-ea53-4dea-b024-71fe1447c28b"
      },
      "execution_count": null,
      "outputs": [
        {
          "output_type": "stream",
          "name": "stdout",
          "text": [
            "The sum of all numbers from 1 to 100 is: 5050\n"
          ]
        }
      ]
    },
    {
      "cell_type": "code",
      "source": [
        "#Que number 4 #How do you iterate through a list using a for loop in Python?\n"
      ],
      "metadata": {
        "id": "MvLVIp-u05Mx"
      },
      "execution_count": null,
      "outputs": []
    },
    {
      "cell_type": "code",
      "source": [
        "my_list = [1, 2, 3, 4, 5,6,7]\n",
        "\n",
        "for item in my_list:\n",
        "    # Code to process each item in the list\n",
        "    print(item)\n"
      ],
      "metadata": {
        "colab": {
          "base_uri": "https://localhost:8080/"
        },
        "id": "eCxX1EQX1C7l",
        "outputId": "f414e249-e421-4de6-be71-1da48ca88b4d"
      },
      "execution_count": null,
      "outputs": [
        {
          "output_type": "stream",
          "name": "stdout",
          "text": [
            "1\n",
            "2\n",
            "3\n",
            "4\n",
            "5\n",
            "6\n",
            "7\n"
          ]
        }
      ]
    },
    {
      "cell_type": "code",
      "source": [
        "fruits = [\"apple\", \"banana\", \"cherry\", \"date\"]\n",
        "\n",
        "for fruit in fruits:\n",
        "    print(\"I like\", fruit)\n"
      ],
      "metadata": {
        "colab": {
          "base_uri": "https://localhost:8080/"
        },
        "id": "btOXXULG1mDM",
        "outputId": "cb4a8c4c-894f-410d-a962-1eef86e35bf9"
      },
      "execution_count": null,
      "outputs": [
        {
          "output_type": "stream",
          "name": "stdout",
          "text": [
            "I like apple\n",
            "I like banana\n",
            "I like cherry\n",
            "I like date\n"
          ]
        }
      ]
    },
    {
      "cell_type": "code",
      "source": [
        "#Que number 5 Write a Python program to find the product of all elements in a list using a for loop.\n"
      ],
      "metadata": {
        "id": "76gNhDZ71JGH"
      },
      "execution_count": null,
      "outputs": []
    },
    {
      "cell_type": "code",
      "source": [
        "product = 1\n",
        "\n",
        "numbers = [2, 3, 4, 5, 6,7,8]\n",
        "\n",
        "# Use a for loop to iterate through the list\n",
        "for num in numbers:\n",
        "    product *= num  # Multiply the current number with the product\n",
        "\n",
        "print(\"The product of all elements in the list is:\", product)\n"
      ],
      "metadata": {
        "colab": {
          "base_uri": "https://localhost:8080/"
        },
        "id": "xS306Z-71YLu",
        "outputId": "807dadfb-70b5-4829-b4e8-b565864a3a01"
      },
      "execution_count": null,
      "outputs": [
        {
          "output_type": "stream",
          "name": "stdout",
          "text": [
            "The product of all elements in the list is: 40320\n"
          ]
        }
      ]
    },
    {
      "cell_type": "code",
      "source": [
        "#Que number 6 #Create a Python program that prints all even numbers from 1 to 20 using a for loop.\n"
      ],
      "metadata": {
        "id": "uJS3dVHi127m"
      },
      "execution_count": null,
      "outputs": []
    },
    {
      "cell_type": "code",
      "source": [
        "# Use a for loop to iterate through numbers from 1 to 20\n",
        "for number in range(1, 21):\n",
        "    # Check if the number is even\n",
        "    if number % 2 == 0:\n",
        "        # If it's even, print the number\n",
        "        print(number)\n"
      ],
      "metadata": {
        "colab": {
          "base_uri": "https://localhost:8080/"
        },
        "id": "_gzvilfU2DHT",
        "outputId": "4432c716-61ad-4da1-86c2-8ef9a5c124d7"
      },
      "execution_count": null,
      "outputs": [
        {
          "output_type": "stream",
          "name": "stdout",
          "text": [
            "2\n",
            "4\n",
            "6\n",
            "8\n",
            "10\n",
            "12\n",
            "14\n",
            "16\n",
            "18\n",
            "20\n"
          ]
        }
      ]
    },
    {
      "cell_type": "code",
      "source": [
        "#Que number 7 Write a Python program that calculates the factorial of a number using a for loop.\n"
      ],
      "metadata": {
        "id": "9Bwm_BLD2OMu"
      },
      "execution_count": null,
      "outputs": []
    },
    {
      "cell_type": "code",
      "source": [
        "# Input: Get the number from the user\n",
        "num = int(input(\"Enter a number: \"))\n",
        "\n",
        "# Initialize a variable to store the factorial (start with 1 for multiplication)\n",
        "factorial = 1\n",
        "\n",
        "# Check if the number is negative, zero, or positive\n",
        "if num < 0:\n",
        "    print(\"Factorial is not defined for negative numbers.\")\n",
        "elif num == 0:\n",
        "    print(\"The factorial of 0 is 1.\")\n",
        "else:\n",
        "    # Use a for loop to calculate the factorial\n",
        "    for i in range(1, num + 1):\n",
        "        factorial *= i\n",
        "\n",
        "    # Print the factorial\n",
        "    print(f\"The factorial of {num} is {factorial}\")\n"
      ],
      "metadata": {
        "colab": {
          "base_uri": "https://localhost:8080/"
        },
        "id": "_k5q63yA2jeg",
        "outputId": "117ea151-50c8-4f51-e49e-dfd23df58ac0"
      },
      "execution_count": null,
      "outputs": [
        {
          "output_type": "stream",
          "name": "stdout",
          "text": [
            "Enter a number: 34\n",
            "The factorial of 34 is 295232799039604140847618609643520000000\n"
          ]
        }
      ]
    },
    {
      "cell_type": "code",
      "source": [
        "#Que number 8 How can you iterate through the characters of a string using a for loop in Python?\n",
        "\n"
      ],
      "metadata": {
        "id": "H6LbXDnU2qO2"
      },
      "execution_count": null,
      "outputs": []
    },
    {
      "cell_type": "code",
      "source": [
        "my_string = \"Hello, World!\"\n",
        "\n",
        "for char in my_string:\n",
        "    print(char)\n"
      ],
      "metadata": {
        "colab": {
          "base_uri": "https://localhost:8080/"
        },
        "id": "xZLjLZJh3Hy8",
        "outputId": "a7fcbd54-9e01-4fb4-82b2-6712b6bef8d8"
      },
      "execution_count": null,
      "outputs": [
        {
          "output_type": "stream",
          "name": "stdout",
          "text": [
            "H\n",
            "e\n",
            "l\n",
            "l\n",
            "o\n",
            ",\n",
            " \n",
            "W\n",
            "o\n",
            "r\n",
            "l\n",
            "d\n",
            "!\n"
          ]
        }
      ]
    },
    {
      "cell_type": "code",
      "source": [
        "#QUE NUMBER 9 #Write a Python program to find the largest number in a list using a for loop.\n"
      ],
      "metadata": {
        "id": "xZRLU3ib3MzP"
      },
      "execution_count": null,
      "outputs": []
    },
    {
      "cell_type": "code",
      "source": [
        "numbers = [35, 13, 67, 98, 24, 66, 88]\n",
        "\n",
        "# Initialize a variable to hold the maximum value (start with the first element)\n",
        "maximum = numbers[0]\n",
        "\n",
        "# Use a for loop to iterate through the list\n",
        "for num in numbers:\n",
        "    # Compare the current number with the maximum\n",
        "    if num > maximum:\n",
        "        maximum = num  # Update the maximum if the current number is larger\n",
        "\n",
        "\n",
        "print(\"The largest number in the list is:\", maximum)\n"
      ],
      "metadata": {
        "colab": {
          "base_uri": "https://localhost:8080/"
        },
        "id": "M8SH0d3b3ZDr",
        "outputId": "edeefa52-7fd8-46e9-ea5b-a5d728ce520a"
      },
      "execution_count": null,
      "outputs": [
        {
          "output_type": "stream",
          "name": "stdout",
          "text": [
            "The largest number in the list is: 98\n"
          ]
        }
      ]
    },
    {
      "cell_type": "code",
      "source": [
        "#Que number 10 #Create a Python program that prints the Fibonacci sequence up to a specified limit using a for loop.\n"
      ],
      "metadata": {
        "id": "HUQZJNLf3h64"
      },
      "execution_count": null,
      "outputs": []
    },
    {
      "cell_type": "code",
      "source": [
        "limit = int(input(\"Enter the limit for the Fibonacci sequence: \"))\n",
        "\n",
        "# Initialize the first two Fibonacci numbers\n",
        "fibonacci_sequence = [0, 1]\n",
        "\n",
        "# Use a for loop to generate the Fibonacci sequence up to the limit\n",
        "for i in range(2, limit):\n",
        "    next_fibonacci = fibonacci_sequence[-1] + fibonacci_sequence[-2]\n",
        "\n",
        "    # Check if the next Fibonacci number exceeds the limit\n",
        "    if next_fibonacci > limit:\n",
        "        break\n",
        "\n",
        "    fibonacci_sequence.append(next_fibonacci)\n",
        "\n",
        "print(\"Fibonacci sequence up to\", limit, \"is:\")\n",
        "for num in fibonacci_sequence:\n",
        "    print(num)\n"
      ],
      "metadata": {
        "colab": {
          "base_uri": "https://localhost:8080/"
        },
        "id": "8x8fIjoJ36xl",
        "outputId": "9c7f35bb-8a5e-4f0a-e863-31fcf7662f40"
      },
      "execution_count": null,
      "outputs": [
        {
          "output_type": "stream",
          "name": "stdout",
          "text": [
            "Enter the limit for the Fibonacci sequence: 473\n",
            "Fibonacci sequence up to 473 is:\n",
            "0\n",
            "1\n",
            "1\n",
            "2\n",
            "3\n",
            "5\n",
            "8\n",
            "13\n",
            "21\n",
            "34\n",
            "55\n",
            "89\n",
            "144\n",
            "233\n",
            "377\n"
          ]
        }
      ]
    },
    {
      "cell_type": "code",
      "source": [
        "#Que number 11 #Write a Python program to count the number of vowels in a given string using a for loop.\n"
      ],
      "metadata": {
        "id": "O2alzOh35LKi"
      },
      "execution_count": null,
      "outputs": []
    },
    {
      "cell_type": "code",
      "source": [
        "input_string = input(\"Enter a string: \")\n",
        "\n",
        "# Convert the input string to lowercase to make it case-insensitive\n",
        "input_string = input_string.lower()\n",
        "\n",
        "# Initialize a variable to count vowels\n",
        "vowel_count = 0\n",
        "\n",
        "# Define a list of vowels\n",
        "vowels = ['a', 'e', 'i', 'o', 'u']\n",
        "\n",
        "# Use a for loop to iterate through each character in the string\n",
        "for char in input_string:\n",
        "    if char in vowels:\n",
        "        vowel_count += 1\n",
        "\n",
        "print(\"The number of vowels in the given string is:\", vowel_count)\n"
      ],
      "metadata": {
        "colab": {
          "base_uri": "https://localhost:8080/"
        },
        "id": "Pp_eYiyH5i0s",
        "outputId": "acea3022-b122-4613-99d6-41d151568fe7"
      },
      "execution_count": null,
      "outputs": [
        {
          "output_type": "stream",
          "name": "stdout",
          "text": [
            "Enter a string: vishalmaurya\n",
            "The number of vowels in the given string is: 5\n"
          ]
        }
      ]
    },
    {
      "cell_type": "code",
      "source": [
        "#Que number 11 #Create a Python program that generates a multiplication table for a given number using a for loop.\n"
      ],
      "metadata": {
        "id": "94cfK-Fr6ewx"
      },
      "execution_count": null,
      "outputs": []
    },
    {
      "cell_type": "code",
      "source": [
        "num = int(input(\"Enter a number: \"))\n",
        "\n",
        "# Define the range for the multiplication table (e.g., 1 to 10)\n",
        "start = 1\n",
        "end = 10\n",
        "\n",
        "# Generate and print the multiplication table\n",
        "print(f\"Multiplication table for {num}:\")\n",
        "\n",
        "for i in range(start, end + 1):\n",
        "    result = num * i\n",
        "    print(f\"{num} x {i} = {result}\")\n"
      ],
      "metadata": {
        "colab": {
          "base_uri": "https://localhost:8080/"
        },
        "id": "27tWoOgo6u2h",
        "outputId": "6acecf85-1a03-4236-850e-4a0e55bc352d"
      },
      "execution_count": null,
      "outputs": [
        {
          "output_type": "stream",
          "name": "stdout",
          "text": [
            "Enter a number: 233\n",
            "Multiplication table for 233:\n",
            "233 x 1 = 233\n",
            "233 x 2 = 466\n",
            "233 x 3 = 699\n",
            "233 x 4 = 932\n",
            "233 x 5 = 1165\n",
            "233 x 6 = 1398\n",
            "233 x 7 = 1631\n",
            "233 x 8 = 1864\n",
            "233 x 9 = 2097\n",
            "233 x 10 = 2330\n"
          ]
        }
      ]
    },
    {
      "cell_type": "code",
      "source": [
        "#QUE NUMBER 13 #Write a Python program to reverse a list using a for loop.\n"
      ],
      "metadata": {
        "id": "KLEzymCL7MA0"
      },
      "execution_count": null,
      "outputs": []
    },
    {
      "cell_type": "code",
      "source": [
        "original_list = [1, 2, 3, 4, 5]\n",
        "\n",
        "# Initialize an empty list to store the reversed elements\n",
        "reversed_list = []\n",
        "\n",
        "# Use a for loop to iterate through the original list in reverse order\n",
        "for item in reversed(original_list):\n",
        "    reversed_list.append(item)\n",
        "\n",
        "\n",
        "print(\"Original List:\", original_list)\n",
        "print(\"Reversed List:\", reversed_list)\n"
      ],
      "metadata": {
        "colab": {
          "base_uri": "https://localhost:8080/"
        },
        "id": "s1l5JMOi7ZzG",
        "outputId": "11c568e0-d3ea-4aa4-ef3c-3c06ba19d80a"
      },
      "execution_count": null,
      "outputs": [
        {
          "output_type": "stream",
          "name": "stdout",
          "text": [
            "Original List: [1, 2, 3, 4, 5]\n",
            "Reversed List: [5, 4, 3, 2, 1]\n"
          ]
        }
      ]
    },
    {
      "cell_type": "code",
      "source": [
        "#Que number 14 #Write a Python program to find the common elements between two lists using a for loop.\n"
      ],
      "metadata": {
        "id": "ueUh83gw7ioU"
      },
      "execution_count": null,
      "outputs": []
    },
    {
      "cell_type": "code",
      "source": [
        "list1 = [1, 3, 5, 7, 9]\n",
        "list2 = [1, 4, 5, 7, 9]\n",
        "\n",
        "# Initialize an empty list to store the common elements\n",
        "common_elements = []\n",
        "\n",
        "# Use a for loop to iterate through the elements of list1\n",
        "for item in list1:\n",
        "    # Check if the current element is also in list2\n",
        "    if item in list2:\n",
        "        common_elements.append(item)\n",
        "\n",
        "print(\"Common elements between list1 and list2:\", common_elements)\n"
      ],
      "metadata": {
        "colab": {
          "base_uri": "https://localhost:8080/"
        },
        "id": "8Jhfl9yD7yyw",
        "outputId": "79b9563b-a7c5-4c18-c41b-31756846767f"
      },
      "execution_count": null,
      "outputs": [
        {
          "output_type": "stream",
          "name": "stdout",
          "text": [
            "Common elements between list1 and list2: [1, 5, 7, 9]\n"
          ]
        }
      ]
    },
    {
      "cell_type": "code",
      "source": [
        "#Que number 15 #Explain how to use a for loop to iterate through the keys and values of a dictionary in Python.\n"
      ],
      "metadata": {
        "id": "-K_KouAB8RF5"
      },
      "execution_count": null,
      "outputs": []
    },
    {
      "cell_type": "code",
      "source": [
        "my_dict = {\"a\": 1, \"b\": 2, \"c\": 3}\n",
        "\n",
        "# Using the .items() method to iterate through keys and values\n",
        "for key, value in my_dict.items():\n",
        "    print(f\"Key: {key}, Value: {value}\")\n"
      ],
      "metadata": {
        "colab": {
          "base_uri": "https://localhost:8080/"
        },
        "id": "C66MtQiD80CQ",
        "outputId": "47c43a84-7eb2-4871-f8af-b3381aa829e6"
      },
      "execution_count": null,
      "outputs": [
        {
          "output_type": "stream",
          "name": "stdout",
          "text": [
            "Key: a, Value: 1\n",
            "Key: b, Value: 2\n",
            "Key: c, Value: 3\n"
          ]
        }
      ]
    },
    {
      "cell_type": "code",
      "source": [
        "#Que number 16 #Write a Python program to find the GCD (Greatest Common Divisor) of two numbers using a for loop."
      ],
      "metadata": {
        "id": "V-Z58C1w9CpO"
      },
      "execution_count": null,
      "outputs": []
    },
    {
      "cell_type": "code",
      "source": [
        "# Function to find the GCD of two numbers using the Euclidean algorithm\n",
        "def find_gcd(a, b):\n",
        "    while b:\n",
        "        a, b = b, a % b\n",
        "    return a\n",
        "\n",
        "# Get two numbers from the user\n",
        "num1 = int(input(\"Enter the first number: \"))\n",
        "num2 = int(input(\"Enter the second number: \"))\n",
        "\n",
        "# Calculate and print the GCD\n",
        "gcd = find_gcd(num1, num2)\n",
        "print(f\"The GCD of {num1} and {num2} is {gcd}\")\n"
      ],
      "metadata": {
        "colab": {
          "base_uri": "https://localhost:8080/"
        },
        "id": "zqZ742n29deD",
        "outputId": "44cfcb71-c9fc-4e38-8604-6b5c77602acf"
      },
      "execution_count": null,
      "outputs": [
        {
          "output_type": "stream",
          "name": "stdout",
          "text": [
            "Enter the first number: 5\n",
            "Enter the second number: 4\n",
            "The GCD of 5 and 4 is 1\n"
          ]
        }
      ]
    },
    {
      "cell_type": "code",
      "source": [
        "#Que number 17 #Create a Python program that checks if a string is a palindrome using a for loop.\n"
      ],
      "metadata": {
        "id": "HmQ_feGxDohH"
      },
      "execution_count": null,
      "outputs": []
    },
    {
      "cell_type": "code",
      "source": [
        "# Function to check if a string is a palindrome\n",
        "def is_palindrome(input_string):\n",
        "    # Remove spaces and convert the input string to lowercase\n",
        "    cleaned_string = input_string.replace(\" \", \"\").lower()\n",
        "\n",
        "    # Initialize two pointers for comparison\n",
        "    left = 0\n",
        "    right = len(cleaned_string) - 1\n",
        "\n",
        "    # Use a for loop to check if the string is a palindrome\n",
        "    for _ in range(len(cleaned_string) // 2):\n",
        "        if cleaned_string[left] != cleaned_string[right]:\n",
        "            return False\n",
        "        left += 1\n",
        "        right -= 1\n",
        "    return True\n",
        "\n",
        "# Get the input string from the user\n",
        "input_string = input(\"Enter a string: \")\n",
        "\n",
        "if is_palindrome(input_string):\n",
        "    print(f\"'{input_string}' is a palindrome.\")\n",
        "else:\n",
        "    print(f\"'{input_string}' is not a palindrome.\")\n"
      ],
      "metadata": {
        "colab": {
          "base_uri": "https://localhost:8080/"
        },
        "id": "6EIRX7_LD0F3",
        "outputId": "c06494b9-de17-4cdc-eb5f-2ac8963ae313"
      },
      "execution_count": null,
      "outputs": [
        {
          "output_type": "stream",
          "name": "stdout",
          "text": [
            "Enter a string: level\n",
            "'level' is a palindrome.\n"
          ]
        }
      ]
    },
    {
      "cell_type": "code",
      "source": [
        "#Que number 18 #Write a Python program to remove duplicates from a list using a for loop."
      ],
      "metadata": {
        "id": "wV2PIGFAD7i3"
      },
      "execution_count": null,
      "outputs": []
    },
    {
      "cell_type": "code",
      "source": [
        "original_list = [1, 2, 3, 3, 4, 5, 5, 6, 6]\n",
        "\n",
        "# Initialize an empty list to store unique elements\n",
        "unique_list = []\n",
        "\n",
        "# Use a for loop to iterate through the original list\n",
        "for item in original_list:\n",
        "    # Check if the current item is not in the unique_list\n",
        "    if item not in unique_list:\n",
        "        unique_list.append(item)\n",
        "\n",
        "\n",
        "print(\"Original List:\", original_list)\n",
        "print(\"List with Duplicates Removed:\", unique_list)\n"
      ],
      "metadata": {
        "colab": {
          "base_uri": "https://localhost:8080/"
        },
        "id": "ds_5DTVxEE2E",
        "outputId": "f8ff0855-7ff7-4d3c-af3e-3d01d157cadd"
      },
      "execution_count": null,
      "outputs": [
        {
          "output_type": "stream",
          "name": "stdout",
          "text": [
            "Original List: [1, 2, 3, 3, 4, 5, 5, 6, 6]\n",
            "List with Duplicates Removed: [1, 2, 3, 4, 5, 6]\n"
          ]
        }
      ]
    },
    {
      "cell_type": "code",
      "source": [
        "#Que number 19 #Create a Python program that counts the number of words in a sentence using a for loop.\n"
      ],
      "metadata": {
        "id": "zYQj1LHjEO5v"
      },
      "execution_count": null,
      "outputs": []
    },
    {
      "cell_type": "code",
      "source": [
        "sentence = input(\"Enter a sentence: \")\n",
        "\n",
        "# Initialize a variable to count the number of words\n",
        "word_count = 0\n",
        "\n",
        "# Split the sentence into words using spaces as the delimiter\n",
        "words = sentence.split()\n",
        "\n",
        "# Use a for loop to iterate through the words and count them\n",
        "for word in words:\n",
        "    word_count += 1\n",
        "\n",
        "\n",
        "print(\"The number of words in the sentence is:\", word_count)\n"
      ],
      "metadata": {
        "colab": {
          "base_uri": "https://localhost:8080/"
        },
        "id": "wXg5H9LpEXyJ",
        "outputId": "be5b17c6-4a0c-4832-e5c6-ace17b0809b6"
      },
      "execution_count": null,
      "outputs": [
        {
          "output_type": "stream",
          "name": "stdout",
          "text": [
            "Enter a sentence: we are happy to learn python\n",
            "The number of words in the sentence is: 6\n"
          ]
        }
      ]
    },
    {
      "cell_type": "code",
      "source": [
        "#Que number 20 #Write a Python program to find the sum of all odd numbers from 1 to 50 using a for loop.\n"
      ],
      "metadata": {
        "id": "gbe73JbJElPe"
      },
      "execution_count": null,
      "outputs": []
    },
    {
      "cell_type": "code",
      "source": [
        "sum_of_odd_numbers = 0\n",
        "\n",
        "# Use a for loop to iterate through numbers from 1 to 50\n",
        "for num in range(1, 51):\n",
        "    # Check if the current number is odd\n",
        "    if num % 2 != 0:\n",
        "        sum_of_odd_numbers += num  # Add the current odd number to the sum\n",
        "\n",
        "print(\"The sum of odd numbers from 1 to 50 is:\", sum_of_odd_numbers)\n"
      ],
      "metadata": {
        "colab": {
          "base_uri": "https://localhost:8080/"
        },
        "id": "NbQB8c1OE2Y5",
        "outputId": "63f2a3b5-d9cb-4c70-82a4-be4a55222551"
      },
      "execution_count": null,
      "outputs": [
        {
          "output_type": "stream",
          "name": "stdout",
          "text": [
            "The sum of odd numbers from 1 to 50 is: 625\n"
          ]
        }
      ]
    },
    {
      "cell_type": "code",
      "source": [
        "#Que number 21 #Write a Python program that checks if a given year is a leap year using a for loop.\n"
      ],
      "metadata": {
        "id": "zuAl0TQbE_35"
      },
      "execution_count": null,
      "outputs": []
    },
    {
      "cell_type": "code",
      "source": [
        "year = int(input(\"Enter a year: \"))\n",
        "\n",
        "# Check if it's a leap year\n",
        "if (year % 4 == 0 and year % 100 != 0) or (year % 400 == 0):\n",
        "    print(f\"{year} is a leap year.\")\n",
        "else:\n",
        "    print(f\"{year} is not a leap year.\")\n"
      ],
      "metadata": {
        "colab": {
          "base_uri": "https://localhost:8080/"
        },
        "id": "BnECudvvFI24",
        "outputId": "6b912c22-b2b6-4b2f-c9f1-0150854946ea"
      },
      "execution_count": null,
      "outputs": [
        {
          "output_type": "stream",
          "name": "stdout",
          "text": [
            "Enter a year: 2000\n",
            "2000 is a leap year.\n"
          ]
        }
      ]
    },
    {
      "cell_type": "code",
      "source": [
        "#Que number 22 #Create a Python program that calculates the square root of a number using a for loop.\n"
      ],
      "metadata": {
        "id": "QuMCblHXFNs5"
      },
      "execution_count": null,
      "outputs": []
    },
    {
      "cell_type": "code",
      "source": [
        "\n",
        "number = float(input(\"Enter a number: \"))\n",
        "\n",
        "# Define the initial guess for the square root\n",
        "guess = number / 4  # Starting with a reasonable guess\n",
        "\n",
        "\n",
        "tolerance = 1e-6\n",
        "\n",
        "# Use a for loop to approximate the square root\n",
        "for _ in range(1000):  # Limiting to 1000 iterations for safety\n",
        "    new_guess = 0.5 * (guess + number / guess)\n",
        "\n",
        "    # Check for convergence\n",
        "    if abs(new_guess - guess) < tolerance:\n",
        "        break\n",
        "\n",
        "    guess = new_guess\n",
        "\n",
        "\n",
        "print(f\"The approximate square root of {number} is: {guess}\")\n"
      ],
      "metadata": {
        "colab": {
          "base_uri": "https://localhost:8080/"
        },
        "id": "4ZVjcojtFgDD",
        "outputId": "0ee4cab8-2601-4dc8-a08e-44896b13c716"
      },
      "execution_count": null,
      "outputs": [
        {
          "output_type": "stream",
          "name": "stdout",
          "text": [
            "Enter a number: 32\n",
            "The approximate square root of 32.0 is: 5.6568542494987595\n"
          ]
        }
      ]
    },
    {
      "cell_type": "code",
      "source": [
        "#Que number 23 #Write a Python program to find the LCM (Least Common Multiple) of two numbers using a for loop.\n"
      ],
      "metadata": {
        "id": "noRe3wkZFs-h"
      },
      "execution_count": null,
      "outputs": []
    },
    {
      "cell_type": "code",
      "source": [
        "def find_gcd(a, b):\n",
        "    while b:\n",
        "        a, b = b, a % b\n",
        "    return a\n",
        "\n",
        "# Function to find the LCM of two numbers\n",
        "def find_lcm(a, b):\n",
        "    gcd = find_gcd(a, b)\n",
        "    lcm = (a * b) // gcd\n",
        "    return lcm\n",
        "\n",
        "# Get two numbers from the user\n",
        "num1 = int(input(\"Enter the first number: \"))\n",
        "num2 = int(input(\"Enter the second number: \"))\n",
        "\n",
        "\n",
        "lcm = find_lcm(num1, num2)\n",
        "print(f\"The LCM of {num1} and {num2} is {lcm}\")\n"
      ],
      "metadata": {
        "colab": {
          "base_uri": "https://localhost:8080/"
        },
        "id": "FJLkteY6F163",
        "outputId": "4dc5aaae-f78a-4b5e-d952-39a3fa0eb014"
      },
      "execution_count": null,
      "outputs": [
        {
          "output_type": "stream",
          "name": "stdout",
          "text": [
            "Enter the first number: 324\n",
            "Enter the second number: 234\n",
            "The LCM of 324 and 234 is 4212\n"
          ]
        }
      ]
    },
    {
      "cell_type": "code",
      "source": [
        "#if else"
      ],
      "metadata": {
        "id": "3P6D7AZvF_I9"
      },
      "execution_count": null,
      "outputs": []
    },
    {
      "cell_type": "code",
      "source": [
        "#Que number 1 #Write a Python program to check if a number is positive, negative, or zero using an if-else statement.\n"
      ],
      "metadata": {
        "id": "zTPkZu48GLWS"
      },
      "execution_count": null,
      "outputs": []
    },
    {
      "cell_type": "code",
      "source": [
        "number = float(input(\"Enter a number: \"))\n",
        "\n",
        "# Check if the number is positive, negative, or zero\n",
        "if number > 0:\n",
        "    print(\"The number is positive.\")\n",
        "elif number < 0:\n",
        "    print(\"The number is negative.\")\n",
        "else:\n",
        "    print(\"The number is zero.\")\n"
      ],
      "metadata": {
        "colab": {
          "base_uri": "https://localhost:8080/"
        },
        "id": "VC_bGmb4GOA8",
        "outputId": "4f108dca-337c-42a4-ca13-7a53e165a064"
      },
      "execution_count": null,
      "outputs": [
        {
          "output_type": "stream",
          "name": "stdout",
          "text": [
            "Enter a number: 44\n",
            "The number is positive.\n"
          ]
        }
      ]
    },
    {
      "cell_type": "code",
      "source": [
        "#QUE NUMBER 2 #Create a Python program that checks if a given number is even or odd using an if-else statement.\n",
        "\n",
        "\n",
        "\n"
      ],
      "metadata": {
        "id": "wbVkjv4RGYOk"
      },
      "execution_count": null,
      "outputs": []
    },
    {
      "cell_type": "code",
      "source": [
        "number = int(input(\"Enter a number: \"))\n",
        "\n",
        "# Check if the number is even or odd\n",
        "if number % 2 == 0:\n",
        "    print(f\"{number} is even.\")\n",
        "else:\n",
        "    print(f\"{number} is odd.\")\n"
      ],
      "metadata": {
        "colab": {
          "base_uri": "https://localhost:8080/"
        },
        "id": "rS0CyFttGmv1",
        "outputId": "3a411f01-ff95-4b48-96b3-a5ee0c6b0fc4"
      },
      "execution_count": null,
      "outputs": [
        {
          "output_type": "stream",
          "name": "stdout",
          "text": [
            "Enter a number: 23\n",
            "23 is odd.\n"
          ]
        }
      ]
    },
    {
      "cell_type": "code",
      "source": [
        "number = int(input(\"Enter a number: \"))\n",
        "\n",
        "# Check if the number is even or odd\n",
        "if number % 2 == 0:\n",
        "    print(f\"{number} is even.\")\n",
        "else:\n",
        "    print(f\"{number} is odd.\")\n"
      ],
      "metadata": {
        "colab": {
          "base_uri": "https://localhost:8080/"
        },
        "id": "J8hfUZ4WGuOK",
        "outputId": "5e94da3e-c6da-44ef-ef66-99f653e0d7b9"
      },
      "execution_count": null,
      "outputs": [
        {
          "output_type": "stream",
          "name": "stdout",
          "text": [
            "Enter a number: 24\n",
            "24 is even.\n"
          ]
        }
      ]
    },
    {
      "cell_type": "code",
      "source": [
        "#Que number 3 # How can you use nested if-else statements in Python, and provide an example?\n"
      ],
      "metadata": {
        "id": "0fv3aRMAG1El"
      },
      "execution_count": null,
      "outputs": []
    },
    {
      "cell_type": "code",
      "source": [
        "exam_score = int(input(\"Enter the exam score: \"))\n",
        "attended_class = input(\"Did the student attend the class? (yes/no): \")\n",
        "\n",
        "# Check if the student passed or failed based on score and attendance\n",
        "if exam_score >= 70:\n",
        "    if attended_class.lower() == \"yes\":\n",
        "        print(\"The student passed the exam and attended class.\")\n",
        "    else:\n",
        "        print(\"The student passed the exam but did not attend class.\")\n",
        "else:\n",
        "    if attended_class.lower() == \"yes\":\n",
        "        print(\"The student failed the exam but attended class.\")\n",
        "    else:\n",
        "        print(\"The student failed the exam and did not attend class.\")\n"
      ],
      "metadata": {
        "colab": {
          "base_uri": "https://localhost:8080/"
        },
        "id": "R3z7HsvkHGSc",
        "outputId": "546c3e04-9742-4fb9-f478-74f50b3830b3"
      },
      "execution_count": null,
      "outputs": [
        {
          "output_type": "stream",
          "name": "stdout",
          "text": [
            "Enter the exam score: 65\n",
            "Did the student attend the class? (yes/no): yes\n",
            "The student failed the exam but attended class.\n"
          ]
        }
      ]
    },
    {
      "cell_type": "code",
      "source": [
        "#Que number 4 #Write a Python program to determine the largest of three numbers using if-else.\n"
      ],
      "metadata": {
        "id": "f6u3AzuUHVtd"
      },
      "execution_count": null,
      "outputs": []
    },
    {
      "cell_type": "code",
      "source": [
        "num1 = float(input(\"Enter the first number: \"))\n",
        "num2 = float(input(\"Enter the second number: \"))\n",
        "num3 = float(input(\"Enter the third number: \"))\n",
        "\n",
        "# Use if-else statements to find the largest number\n",
        "if num1 >= num2 and num1 >= num3:\n",
        "    largest = num1\n",
        "elif num2 >= num1 and num2 >= num3:\n",
        "    largest = num2\n",
        "else:\n",
        "    largest = num3\n",
        "\n",
        "print(f\"The largest number is: {largest}\")\n"
      ],
      "metadata": {
        "colab": {
          "base_uri": "https://localhost:8080/"
        },
        "id": "11RvwZOIHoYC",
        "outputId": "bb1ecabb-912a-4e81-e94f-b01f9f4425fb"
      },
      "execution_count": null,
      "outputs": [
        {
          "output_type": "stream",
          "name": "stdout",
          "text": [
            "Enter the first number: 234\n",
            "Enter the second number: 532\n",
            "Enter the third number: 7543\n",
            "The largest number is: 7543.0\n"
          ]
        }
      ]
    },
    {
      "cell_type": "code",
      "source": [
        "#Que number 5 Write a Python program that calculates the absolute value of a number using if-else.\n"
      ],
      "metadata": {
        "id": "wqmvgHM2MA1M"
      },
      "execution_count": 1,
      "outputs": []
    },
    {
      "cell_type": "code",
      "source": [
        "num = float(input(\"Enter a number: \"))\n",
        "\n",
        "# Check if the number is negative\n",
        "if num < 0:\n",
        "    # If it's negative, make it positive\n",
        "    absolute_value = -num\n",
        "else:\n",
        "    # If it's non-negative, it's already absolute\n",
        "    absolute_value = num\n",
        "\n",
        "print(\"The absolute value of\", num, \"is\", absolute_value)\n"
      ],
      "metadata": {
        "colab": {
          "base_uri": "https://localhost:8080/"
        },
        "id": "qZHNTVhwNKv2",
        "outputId": "4fa9961b-7ebb-4397-d609-7a353aaad1d1"
      },
      "execution_count": 2,
      "outputs": [
        {
          "output_type": "stream",
          "name": "stdout",
          "text": [
            "Enter a number: 4355\n",
            "The absolute value of 4355.0 is 4355.0\n"
          ]
        }
      ]
    },
    {
      "cell_type": "code",
      "source": [
        "#Que number 6 #Create a Python program that checks if a given character is a vowel or consonant using if-else.\n"
      ],
      "metadata": {
        "id": "suSbxRWTN1lh"
      },
      "execution_count": 3,
      "outputs": []
    },
    {
      "cell_type": "code",
      "source": [
        "char = input(\"Enter a character: \")\n",
        "\n",
        "# Make sure the input is a single character\n",
        "if len(char) == 1:\n",
        "    # Convert the character to lowercase to handle both uppercase and lowercase input\n",
        "    char = char.lower()\n",
        "\n",
        "    # Check if the character is a vowel\n",
        "    if char in ('a', 'e', 'i', 'o', 'u'):\n",
        "        print(f\"{char} is a vowel.\")\n",
        "    else:\n",
        "        print(f\"{char} is a consonant.\")\n",
        "else:\n",
        "    print(\"Please enter a single character.\")\n"
      ],
      "metadata": {
        "colab": {
          "base_uri": "https://localhost:8080/"
        },
        "id": "kmSLWT9VOFTr",
        "outputId": "2c1c9e80-1885-4fe0-8188-dbca11bd2235"
      },
      "execution_count": 5,
      "outputs": [
        {
          "output_type": "stream",
          "name": "stdout",
          "text": [
            "Enter a character: v\n",
            "v is a consonant.\n"
          ]
        }
      ]
    },
    {
      "cell_type": "code",
      "source": [
        "#Que number 7 #Write a Python program to determine if a user is eligible to vote based on their age using if-else.\n"
      ],
      "metadata": {
        "id": "Tqnlu2OXO-Cd"
      },
      "execution_count": 6,
      "outputs": []
    },
    {
      "cell_type": "code",
      "source": [
        "age = int(input(\"Enter your age: \"))\n",
        "\n",
        "# Check if the user is eligible to vote\n",
        "if age >= 18:\n",
        "    print(\"You are eligible to vote!\")\n",
        "else:\n",
        "    print(\"You are not eligible to vote.\")\n"
      ],
      "metadata": {
        "colab": {
          "base_uri": "https://localhost:8080/"
        },
        "id": "iqWnCOROPeoA",
        "outputId": "c1a05e34-8d74-4d6b-b64e-465156552771"
      },
      "execution_count": 7,
      "outputs": [
        {
          "output_type": "stream",
          "name": "stdout",
          "text": [
            "Enter your age: 21\n",
            "You are eligible to vote!\n"
          ]
        }
      ]
    },
    {
      "cell_type": "code",
      "source": [
        "#Que number 8 #Create a Python program that calculates the discount amount based on the purchase amount using if-else."
      ],
      "metadata": {
        "id": "KwFK07nAPo8U"
      },
      "execution_count": 8,
      "outputs": []
    },
    {
      "cell_type": "code",
      "source": [
        "purchase_amount = float(input(\"Enter the purchase amount: $\"))\n",
        "\n",
        "# Define discount thresholds and corresponding discount rates\n",
        "discount_threshold_1 = 200\n",
        "discount_threshold_2 = 300\n",
        "discount_rate_1 = 0.05  # 5% discount for purchases over $200\n",
        "discount_rate_2 = 0.1   # 10% discount for purchases over $300\n",
        "\n",
        "# Calculate the discount amount based on the purchase amount\n",
        "if purchase_amount >= discount_threshold_2:\n",
        "    discount_amount = purchase_amount * discount_rate_2\n",
        "elif purchase_amount >= discount_threshold_1:\n",
        "    discount_amount = purchase_amount * discount_rate_1\n",
        "else:\n",
        "    discount_amount = 0\n",
        "\n",
        "if discount_amount > 0:\n",
        "    print(f\"You qualify for a ${discount_amount:.2f} discount!\")\n",
        "    final_amount = purchase_amount - discount_amount\n",
        "    print(f\"Your final amount after the discount is: ${final_amount:.2f}\")\n",
        "else:\n",
        "    print(\"Sorry, no discount applies to your purchase.\")\n"
      ],
      "metadata": {
        "colab": {
          "base_uri": "https://localhost:8080/"
        },
        "id": "Ler05LitQBai",
        "outputId": "4874651d-155d-41ce-db97-cefb410e8c67"
      },
      "execution_count": 9,
      "outputs": [
        {
          "output_type": "stream",
          "name": "stdout",
          "text": [
            "Enter the purchase amount: $270\n",
            "You qualify for a $13.50 discount!\n",
            "Your final amount after the discount is: $256.50\n"
          ]
        }
      ]
    },
    {
      "cell_type": "code",
      "source": [
        "#Que number 9 #Write a Python program to check if a number is within a specified range using if-else.\n"
      ],
      "metadata": {
        "id": "XOE6BfPgQPxC"
      },
      "execution_count": 10,
      "outputs": []
    },
    {
      "cell_type": "code",
      "source": [
        "lower_limit = 10\n",
        "upper_limit = 50\n",
        "\n",
        "# Get the number from the user\n",
        "number = float(input(\"Enter a number: \"))\n",
        "\n",
        "# Check if the number is within the specified range\n",
        "if lower_limit <= number <= upper_limit:\n",
        "    print(f\"{number} is within the range [{lower_limit}, {upper_limit}].\")\n",
        "else:\n",
        "    print(f\"{number} is not within the range [{lower_limit}, {upper_limit}].\")\n"
      ],
      "metadata": {
        "colab": {
          "base_uri": "https://localhost:8080/"
        },
        "id": "cNCfiImFQjYL",
        "outputId": "3663de97-caff-458e-f930-638430fb8fe4"
      },
      "execution_count": 11,
      "outputs": [
        {
          "output_type": "stream",
          "name": "stdout",
          "text": [
            "Enter a number: 35\n",
            "35.0 is within the range [10, 50].\n"
          ]
        }
      ]
    },
    {
      "cell_type": "code",
      "source": [
        "#Que number 10 #Create a Python program that determines the grade of a student based on their score using if-else.\n"
      ],
      "metadata": {
        "id": "BpPHd0DEQrXZ"
      },
      "execution_count": 12,
      "outputs": []
    },
    {
      "cell_type": "code",
      "source": [
        "score = float(input(\"Enter the student's score: \"))\n",
        "\n",
        "# Define the grade ranges and corresponding grades\n",
        "grade_A = 100\n",
        "grade_B = 90\n",
        "grade_C = 60\n",
        "grade_D = 50\n",
        "\n",
        "# Determine the grade based on the score\n",
        "if score >= grade_A:\n",
        "    grade = 'A'\n",
        "elif score >= grade_B:\n",
        "    grade = 'B'\n",
        "elif score >= grade_C:\n",
        "    grade = 'C'\n",
        "elif score >= grade_D:\n",
        "    grade = 'D'\n",
        "else:\n",
        "    grade = 'F'\n",
        "\n",
        "# Print the determined grade\n",
        "print(f\"The student's grade is: {grade}\")\n"
      ],
      "metadata": {
        "colab": {
          "base_uri": "https://localhost:8080/"
        },
        "id": "51sYbCk-Q-NF",
        "outputId": "8d2ef288-da5d-4576-be23-a1b91aec2249"
      },
      "execution_count": 13,
      "outputs": [
        {
          "output_type": "stream",
          "name": "stdout",
          "text": [
            "Enter the student's score: 85\n",
            "The student's grade is: C\n"
          ]
        }
      ]
    },
    {
      "cell_type": "code",
      "source": [
        "#Que number 11 #Write a Python program to check if a string is empty or not using if-else.\n"
      ],
      "metadata": {
        "id": "r4jUF_R_RJc3"
      },
      "execution_count": 14,
      "outputs": []
    },
    {
      "cell_type": "code",
      "source": [
        "input_string = input(\"Enter a string: \")\n",
        "\n",
        "# Check if the string is empty\n",
        "if input_string:\n",
        "    print(\"The string is not empty.\")\n",
        "else:\n",
        "    print(\"The string is empty.\")\n"
      ],
      "metadata": {
        "colab": {
          "base_uri": "https://localhost:8080/"
        },
        "id": "NnXX0fGyTFid",
        "outputId": "808a3987-836a-4380-d7d0-1b69be175dba"
      },
      "execution_count": 15,
      "outputs": [
        {
          "output_type": "stream",
          "name": "stdout",
          "text": [
            "Enter a string: vishal\n",
            "The string is not empty.\n"
          ]
        }
      ]
    },
    {
      "cell_type": "code",
      "source": [
        "#Que number 12 #Create a Python program that identifies the type of a triangle (e.g., equilateral, isosceles, or scalene) based on input values using if-else.\n"
      ],
      "metadata": {
        "id": "L4n1VMnATYwt"
      },
      "execution_count": 16,
      "outputs": []
    },
    {
      "cell_type": "code",
      "source": [
        "side1 = float(input(\"Enter the length of the first side: \"))\n",
        "side2 = float(input(\"Enter the length of the second side: \"))\n",
        "side3 = float(input(\"Enter the length of the third side: \"))\n",
        "\n",
        "# Check the type of triangle\n",
        "if side1 == side2 == side3:\n",
        "    triangle_type = \"equilateral\"\n",
        "elif side1 == side2 or side1 == side3 or side2 == side3:\n",
        "    triangle_type = \"isosceles\"\n",
        "else:\n",
        "    triangle_type = \"scalene\"\n",
        "\n",
        "print(f\"The triangle is a {triangle_type} triangle.\")\n"
      ],
      "metadata": {
        "colab": {
          "base_uri": "https://localhost:8080/"
        },
        "id": "S5q68xm9TrF6",
        "outputId": "429175ca-fcd1-41ed-d65e-d0cfdafe242a"
      },
      "execution_count": 17,
      "outputs": [
        {
          "output_type": "stream",
          "name": "stdout",
          "text": [
            "Enter the length of the first side: 23\n",
            "Enter the length of the second side: 43\n",
            "Enter the length of the third side: 21\n",
            "The triangle is a scalene triangle.\n"
          ]
        }
      ]
    },
    {
      "cell_type": "code",
      "source": [
        "#Que number 13 #Write a Python program to determine the day of the week based on a user-provided number using if-else.\n"
      ],
      "metadata": {
        "id": "IainFjfSUWZM"
      },
      "execution_count": 18,
      "outputs": []
    },
    {
      "cell_type": "code",
      "source": [
        "day_number = int(input(\"Enter a number (1-7) to represent the day of the week: \"))\n",
        "\n",
        "# Determine the day of the week based on the number\n",
        "if day_number == 1:\n",
        "    day_name = \"Sunday\"\n",
        "elif day_number == 2:\n",
        "    day_name = \"Monday\"\n",
        "elif day_number == 3:\n",
        "    day_name = \"Tuesday\"\n",
        "elif day_number == 4:\n",
        "    day_name = \"Wednesday\"\n",
        "elif day_number == 5:\n",
        "    day_name = \"Thursday\"\n",
        "elif day_number == 6:\n",
        "    day_name = \"Friday\"\n",
        "elif day_number == 7:\n",
        "    day_name = \"Saturday\"\n",
        "else:\n",
        "    day_name = \"Invalid input. Please enter a number between 1 and 7.\"\n",
        "\n",
        "print(f\"The day of the week corresponding to {day_number} is {day_name}\")\n"
      ],
      "metadata": {
        "colab": {
          "base_uri": "https://localhost:8080/"
        },
        "id": "wpZ-zZtmVg4q",
        "outputId": "f7340d36-dcee-43d4-abcf-72bc48d51b55"
      },
      "execution_count": 19,
      "outputs": [
        {
          "output_type": "stream",
          "name": "stdout",
          "text": [
            "Enter a number (1-7) to represent the day of the week: 5\n",
            "The day of the week corresponding to 5 is Thursday\n"
          ]
        }
      ]
    },
    {
      "cell_type": "code",
      "source": [
        "#Quw number 14 #Create a Python program that checks if a given year is a leap year using both if-else and a function.\n"
      ],
      "metadata": {
        "id": "ICsO6p1TWPLN"
      },
      "execution_count": 20,
      "outputs": []
    },
    {
      "cell_type": "code",
      "source": [
        "\n",
        "def is_leap_year(year):\n",
        "    if (year % 4 == 0 and year % 100 != 0) or (year % 400 == 0):\n",
        "        return True\n",
        "    else:\n",
        "        return False\n",
        "\n",
        "# Get the year from the user\n",
        "year = int(input(\"Enter a year: \"))\n",
        "\n",
        "# Check if it's a leap year using the function\n",
        "if is_leap_year(year):\n",
        "    print(f\"{year} is a leap year.\")\n",
        "else:\n",
        "    print(f\"{year} is not a leap year.\")\n"
      ],
      "metadata": {
        "colab": {
          "base_uri": "https://localhost:8080/"
        },
        "id": "wvGm6AIPX_6H",
        "outputId": "e28d15d0-7fcf-4c3a-b998-80e26d46519b"
      },
      "execution_count": 24,
      "outputs": [
        {
          "output_type": "stream",
          "name": "stdout",
          "text": [
            "Enter a year: 2000\n",
            "2000 is a leap year.\n"
          ]
        }
      ]
    },
    {
      "cell_type": "code",
      "source": [
        "#Que number 15 #How do you use the \"assert\" statement in Python to add debugging checks within if-else blocks?\n"
      ],
      "metadata": {
        "id": "Z3bI96f6YGB0"
      },
      "execution_count": 25,
      "outputs": []
    },
    {
      "cell_type": "code",
      "source": [
        "\n",
        "\n",
        "number = int(input(\"Enter a number: \"))\n",
        "\n",
        "if number > 0:\n",
        "    print(\"The number is positive.\")\n",
        "else:\n",
        "    # Use assert to add a debugging check\n",
        "    assert number <= 0, \"Assertion failed: The number is not positive.\"\n",
        "\n",
        "    print(\"The number is not positive.\")\n"
      ],
      "metadata": {
        "colab": {
          "base_uri": "https://localhost:8080/"
        },
        "id": "4gnto45qYWoZ",
        "outputId": "167ae9d8-8e90-45fb-919f-010bf26c26e2"
      },
      "execution_count": 26,
      "outputs": [
        {
          "output_type": "stream",
          "name": "stdout",
          "text": [
            "Enter a number: 34\n",
            "The number is positive.\n"
          ]
        }
      ]
    },
    {
      "cell_type": "code",
      "source": [
        "#Que number 16 #Create a Python program that determines the eligibility of a person for a senior citizen discount based on age using if-else.\n"
      ],
      "metadata": {
        "id": "WT1P2KI3Yd_T"
      },
      "execution_count": 27,
      "outputs": []
    },
    {
      "cell_type": "code",
      "source": [
        "age = int(input(\"Enter your age: \"))\n",
        "\n",
        "# Define the age threshold for senior citizen discount\n",
        "senior_age_threshold = 60\n",
        "\n",
        "# Check if the person is eligible for a senior citizen discount\n",
        "if age >= senior_age_threshold:\n",
        "    print(\"You are eligible for a senior citizen discount!\")\n",
        "else:\n",
        "    print(\"You are not eligible for a senior citizen discount.\")\n"
      ],
      "metadata": {
        "colab": {
          "base_uri": "https://localhost:8080/"
        },
        "id": "kjsJwIKyYmr0",
        "outputId": "6839547e-99a1-403a-cc57-e36222a9175b"
      },
      "execution_count": 28,
      "outputs": [
        {
          "output_type": "stream",
          "name": "stdout",
          "text": [
            "Enter your age: 61\n",
            "You are eligible for a senior citizen discount!\n"
          ]
        }
      ]
    },
    {
      "cell_type": "code",
      "source": [
        "#Que number 18 #Write a Python program to determine the roots of a quadratic equation using if-else.\n"
      ],
      "metadata": {
        "id": "CSFbSVVhZToC"
      },
      "execution_count": 29,
      "outputs": []
    },
    {
      "cell_type": "code",
      "source": [
        "# Get the coefficients a, b, and c from the user\n",
        "a = float(input(\"Enter the coefficient 'a': \"))\n",
        "b = float(input(\"Enter the coefficient 'b': \"))\n",
        "c = float(input(\"Enter the coefficient 'c': \"))\n",
        "\n",
        "# Calculate the discriminant\n",
        "discriminant = b**2 - 4*a*c\n",
        "\n",
        "# Determine the nature of roots using if-else statements\n",
        "if discriminant > 0:\n",
        "    # Two real and distinct roots\n",
        "    root1 = (-b + (discriminant**0.5)) / (2*a)\n",
        "    root2 = (-b - (discriminant**0.5)) / (2*a)\n",
        "    print(f\"Root 1: {root1}\")\n",
        "    print(f\"Root 2: {root2}\")\n",
        "elif discriminant == 0:\n",
        "    # One real root (repeated)\n",
        "    root = -b / (2*a)\n",
        "    print(f\"Root: {root}\")\n",
        "else:\n",
        "    # Complex roots\n",
        "    real_part = -b / (2*a)\n",
        "    imaginary_part = (abs(discriminant)**0.5) / (2*a)\n",
        "    print(f\"Root 1: {real_part} + {imaginary_part}i\")\n",
        "    print(f\"Root 2: {real_part} - {imaginary_part}i\")\n"
      ],
      "metadata": {
        "colab": {
          "base_uri": "https://localhost:8080/"
        },
        "id": "MH8cQSGvhYlq",
        "outputId": "09e01fc7-68be-415a-8e3c-194a82448fea"
      },
      "execution_count": 32,
      "outputs": [
        {
          "output_type": "stream",
          "name": "stdout",
          "text": [
            "Enter the coefficient 'a': 4\n",
            "Enter the coefficient 'b': 7\n",
            "Enter the coefficient 'c': 8\n",
            "Root 1: -0.875 + 1.1110243021644486i\n",
            "Root 2: -0.875 - 1.1110243021644486i\n"
          ]
        }
      ]
    },
    {
      "cell_type": "code",
      "source": [
        "#Que number 19 #Create a Python program that checks if a given year is a century year or not using if-else.\n"
      ],
      "metadata": {
        "id": "oczvmmCNhcpz"
      },
      "execution_count": 33,
      "outputs": []
    },
    {
      "cell_type": "code",
      "source": [
        "year = int(input(\"Enter a year: \"))\n",
        "\n",
        "# Check if the year is a century year\n",
        "if year % 100 == 0:\n",
        "    print(f\"{year} is a century year.\")\n",
        "else:\n",
        "    print(f\"{year} is not a century year.\")\n"
      ],
      "metadata": {
        "colab": {
          "base_uri": "https://localhost:8080/"
        },
        "id": "xGgfpVnOqevc",
        "outputId": "e9d1c7b6-30f5-45e2-a7df-4c45fb378b83"
      },
      "execution_count": 34,
      "outputs": [
        {
          "output_type": "stream",
          "name": "stdout",
          "text": [
            "Enter a year: 2022\n",
            "2022 is not a century year.\n"
          ]
        }
      ]
    },
    {
      "cell_type": "code",
      "source": [
        "year = int(input(\"Enter a year: \"))\n",
        "\n",
        "# Check if the year is a century year\n",
        "if year % 100 == 0:\n",
        "    print(f\"{year} is a century year.\")\n",
        "else:\n",
        "    print(f\"{year} is not a century year.\")"
      ],
      "metadata": {
        "colab": {
          "base_uri": "https://localhost:8080/"
        },
        "id": "bU62LopTsavd",
        "outputId": "7a3f5b13-9c0c-4b3c-cde9-eb29314af03a"
      },
      "execution_count": 35,
      "outputs": [
        {
          "output_type": "stream",
          "name": "stdout",
          "text": [
            "Enter a year: 2000\n",
            "2000 is a century year.\n"
          ]
        }
      ]
    },
    {
      "cell_type": "code",
      "source": [
        "#Que number 20 #Write a Python program to determine if a given number is a perfect square using if-else"
      ],
      "metadata": {
        "id": "1xBu9zjvshh1"
      },
      "execution_count": 36,
      "outputs": []
    },
    {
      "cell_type": "code",
      "source": [
        "\n",
        "number = int(input(\"Enter a number: \"))\n",
        "\n",
        "# Calculate the square root of the number\n",
        "sqrt_number = int(number ** 0.5)\n",
        "\n",
        "# Check if it's a perfect square\n",
        "if sqrt_number * sqrt_number == number:\n",
        "    print(f\"{number} is a perfect square.\")\n",
        "else:\n",
        "    print(f\"{number} is not a perfect square.\")\n"
      ],
      "metadata": {
        "colab": {
          "base_uri": "https://localhost:8080/"
        },
        "id": "FCQi8pVYsvbE",
        "outputId": "2d5d47fc-ecae-47e7-f3b7-c8c9813dd972"
      },
      "execution_count": 38,
      "outputs": [
        {
          "output_type": "stream",
          "name": "stdout",
          "text": [
            "Enter a number: 64\n",
            "64 is a perfect square.\n"
          ]
        }
      ]
    },
    {
      "cell_type": "code",
      "source": [
        "#Que number 21 #Explain the purpose of the \"continue\" and \"break\" statements within if-else loops.\n"
      ],
      "metadata": {
        "id": "FcSQG9Yis0EU"
      },
      "execution_count": 39,
      "outputs": []
    },
    {
      "cell_type": "code",
      "source": [
        "for i in range(1, 6):\n",
        "    if i % 2 == 0:\n",
        "        continue  # Skip even numbers\n",
        "    print(i)\n"
      ],
      "metadata": {
        "colab": {
          "base_uri": "https://localhost:8080/"
        },
        "id": "O_e9xlagtJGW",
        "outputId": "ec990588-6528-42a5-9d46-5621839166c6"
      },
      "execution_count": 40,
      "outputs": [
        {
          "output_type": "stream",
          "name": "stdout",
          "text": [
            "1\n",
            "3\n",
            "5\n"
          ]
        }
      ]
    },
    {
      "cell_type": "code",
      "source": [
        "#Que number 22 #Create a Python program that calculates the BMI (Body Mass Index) of a person based on their weight and height using if-else.\n"
      ],
      "metadata": {
        "id": "OycM_pY9t18M"
      },
      "execution_count": 41,
      "outputs": []
    },
    {
      "cell_type": "code",
      "source": [
        "weight_kg = float(input(\"Enter your weight in kilograms: \"))\n",
        "height_m = float(input(\"Enter your height in meters: \"))\n",
        "\n",
        "# Calculate BMI\n",
        "bmi = weight_kg / (height_m ** 2)\n",
        "\n",
        "# Determine the BMI category based on the calculated BMI\n",
        "if bmi < 18.5:\n",
        "    category = \"Underweight\"\n",
        "elif 18.5 <= bmi < 24.9:\n",
        "    category = \"Normal Weight\"\n",
        "elif 25 <= bmi < 29.9:\n",
        "    category = \"Overweight\"\n",
        "else:\n",
        "    category = \"Obese\"\n",
        "\n",
        "\n",
        "print(f\"Your BMI is {bmi:.2f}\")\n",
        "print(f\"You are categorized as {category}\")\n"
      ],
      "metadata": {
        "colab": {
          "base_uri": "https://localhost:8080/"
        },
        "id": "qj4dQQ27uu18",
        "outputId": "5c809292-e1ab-4abe-bf16-f3886f86f830"
      },
      "execution_count": 42,
      "outputs": [
        {
          "output_type": "stream",
          "name": "stdout",
          "text": [
            "Enter your weight in kilograms: 58\n",
            "Enter your height in meters: 178\n",
            "Your BMI is 0.00\n",
            "You are categorized as Underweight\n"
          ]
        }
      ]
    },
    {
      "cell_type": "code",
      "source": [
        "#Que number 23 #How can you use the \"filter()\" function with if-else statements to filter elements from a list?\n"
      ],
      "metadata": {
        "id": "U7oY4m1GvIaD"
      },
      "execution_count": 43,
      "outputs": []
    },
    {
      "cell_type": "code",
      "source": [
        "numbers = [1, 2, 3, 4, 5, 6, 7, 8, 9, 10]\n",
        "\n",
        "# Define a function that checks if a number is even\n",
        "def is_even(x):\n",
        "    return x % 2 == 0\n",
        "\n",
        "# Use the filter() function to filter even numbers\n",
        "even_numbers = filter(is_even, numbers)\n",
        "\n",
        "# Convert the filtered result to a list (optional)\n",
        "even_numbers_list = list(even_numbers)\n",
        "\n",
        "\n",
        "print(even_numbers_list)\n"
      ],
      "metadata": {
        "colab": {
          "base_uri": "https://localhost:8080/"
        },
        "id": "9UO2KHfUvlKX",
        "outputId": "00e3eed7-d733-471a-a6b3-b357a186599c"
      },
      "execution_count": 44,
      "outputs": [
        {
          "output_type": "stream",
          "name": "stdout",
          "text": [
            "[2, 4, 6, 8, 10]\n"
          ]
        }
      ]
    },
    {
      "cell_type": "code",
      "source": [
        "#Que number 24# Write a Python program to determine if a given number is prime or not using if-else."
      ],
      "metadata": {
        "id": "tVRj5ODBvrZ2"
      },
      "execution_count": 45,
      "outputs": []
    },
    {
      "cell_type": "code",
      "source": [
        "num = int(input(\"Enter a number: \"))\n",
        "\n",
        "# Check if the number is greater than 1\n",
        "if num > 1:\n",
        "    # Loop from 2 to the square root of the number\n",
        "    is_prime = True\n",
        "    for i in range(2, int(num ** 0.5) + 1):\n",
        "        if num % i == 0:\n",
        "            is_prime = False\n",
        "            break\n",
        "\n",
        "    # Check if the number is prime\n",
        "    if is_prime:\n",
        "        print(f\"{num} is a prime number.\")\n",
        "    else:\n",
        "        print(f\"{num} is not a prime number.\")\n",
        "else:\n",
        "    print(f\"{num} is not a prime number.\")\n"
      ],
      "metadata": {
        "colab": {
          "base_uri": "https://localhost:8080/"
        },
        "id": "oy2R9i9gv2rp",
        "outputId": "1870f888-9fb1-41b7-b812-e5aa4fedbabd"
      },
      "execution_count": 46,
      "outputs": [
        {
          "name": "stdout",
          "output_type": "stream",
          "text": [
            "Enter a number: 233\n",
            "233 is a prime number.\n",
            "Enter a number: 47\n"
          ]
        }
      ]
    },
    {
      "cell_type": "code",
      "source": [
        "#Map"
      ],
      "metadata": {
        "id": "iRNiZl0Lv6fz"
      },
      "execution_count": 48,
      "outputs": []
    },
    {
      "cell_type": "code",
      "source": [
        "#Que number 1 #Explain the purpose of the `map()` function in Python and provide an example of how it can be used to apply a function to each element of an iterable.\n"
      ],
      "metadata": {
        "id": "MfAld3KuwUv9"
      },
      "execution_count": 50,
      "outputs": []
    },
    {
      "cell_type": "code",
      "source": [
        "\n",
        "def square(x):\n",
        "    return x ** 2\n",
        "\n",
        "numbers = [1, 2, 3, 4, 5]\n",
        "\n",
        "# Use map() to apply the square function to each element of the list\n",
        "squared_numbers = map(square, numbers)\n",
        "\n",
        "\n",
        "squared_numbers_list = list(squared_numbers)\n",
        "\n",
        "# Print the transformed list\n",
        "print(squared_numbers_list)\n"
      ],
      "metadata": {
        "colab": {
          "base_uri": "https://localhost:8080/"
        },
        "id": "D_kuQ9Kaxkik",
        "outputId": "0e46ee51-2503-4b9f-bf60-d1061278b278"
      },
      "execution_count": 51,
      "outputs": [
        {
          "output_type": "stream",
          "name": "stdout",
          "text": [
            "[1, 4, 9, 16, 25]\n"
          ]
        }
      ]
    },
    {
      "cell_type": "code",
      "source": [
        "#Que number 2 #Write a Python program that uses the `map()` function to square each element of a list of numbers."
      ],
      "metadata": {
        "id": "RzzUE6bOxovg"
      },
      "execution_count": 52,
      "outputs": []
    },
    {
      "cell_type": "code",
      "source": [
        "def square(x):\n",
        "    return x ** 2\n",
        "\n",
        "# Create a list of numbers\n",
        "numbers = [1, 2, 3, 4, 5]\n",
        "\n",
        "# Use map() to apply the square function to each element of the list\n",
        "squared_numbers = map(square, numbers)\n",
        "\n",
        "# Convert the result to a list\n",
        "squared_numbers_list = list(squared_numbers)\n",
        "\n",
        "\n",
        "print(squared_numbers_list)\n"
      ],
      "metadata": {
        "colab": {
          "base_uri": "https://localhost:8080/"
        },
        "id": "7fOd9PbLx1aA",
        "outputId": "2b76c588-5d48-4100-9998-e1a7c54a23d0"
      },
      "execution_count": 53,
      "outputs": [
        {
          "output_type": "stream",
          "name": "stdout",
          "text": [
            "[1, 4, 9, 16, 25]\n"
          ]
        }
      ]
    },
    {
      "cell_type": "code",
      "source": [
        "#Que number 3 #How does the `map()` function differ from a list comprehension in Python, and when would you choose one over the other?\n"
      ],
      "metadata": {
        "id": "D0P6WKUlyT20"
      },
      "execution_count": 55,
      "outputs": []
    },
    {
      "cell_type": "code",
      "source": [
        "\n",
        "numbers = [1, 2, 3, 4, 5]\n",
        "\n",
        "# Use list comprehension to square each element of the list\n",
        "squared_numbers = [x ** 2 for x in numbers]\n",
        "\n",
        "\n",
        "print(squared_numbers)\n"
      ],
      "metadata": {
        "colab": {
          "base_uri": "https://localhost:8080/"
        },
        "id": "a3gkdPIMyc2M",
        "outputId": "ddeae62c-6aac-4e70-e18e-7fee35b9c7f4"
      },
      "execution_count": 58,
      "outputs": [
        {
          "output_type": "stream",
          "name": "stdout",
          "text": [
            "[1, 4, 9, 16, 25]\n"
          ]
        }
      ]
    },
    {
      "cell_type": "code",
      "source": [
        "#QUE NUMBER 4 #Create a Python program that uses the `map()` function to convert a list of names to uppercase."
      ],
      "metadata": {
        "id": "PEInFvfhyqcN"
      },
      "execution_count": 59,
      "outputs": []
    },
    {
      "cell_type": "code",
      "source": [
        "names = [\"Vishal\", \"Boss\", \"Maurya\", \"Unique\", \"Boy\"]\n",
        "\n",
        "# Define a function to convert a name to uppercase\n",
        "def convert_to_uppercase(name):\n",
        "    return name.upper()\n",
        "\n",
        "# Use map() to apply the function to each name in the list\n",
        "uppercase_names = map(convert_to_uppercase, names)\n",
        "\n",
        "# Convert the result to a list (optional)\n",
        "uppercase_names_list = list(uppercase_names)\n",
        "\n",
        "for name in uppercase_names_list:\n",
        "    print(name)\n"
      ],
      "metadata": {
        "colab": {
          "base_uri": "https://localhost:8080/"
        },
        "id": "6Aoegtl5y0d1",
        "outputId": "28c9586e-51f8-4182-84df-27d06e134e38"
      },
      "execution_count": 60,
      "outputs": [
        {
          "output_type": "stream",
          "name": "stdout",
          "text": [
            "VISHAL\n",
            "BOSS\n",
            "MAURYA\n",
            "UNIQUE\n",
            "BOY\n"
          ]
        }
      ]
    },
    {
      "cell_type": "code",
      "source": [
        "#Que number 5 #Write a Python program that uses the `map()` function to calculate the length of each word in a list of strings."
      ],
      "metadata": {
        "id": "QBHKmfTJzKmD"
      },
      "execution_count": 61,
      "outputs": []
    },
    {
      "cell_type": "code",
      "source": [
        "words = [\"apple\", \"banana\", \"cherry\", \"date\", \"elderberry\"]\n",
        "\n",
        "# Define a function to calculate the length of a word\n",
        "def calculate_word_length(word):\n",
        "    return len(word)\n",
        "\n",
        "# Use map() to apply the function to each word in the list\n",
        "word_lengths = map(calculate_word_length, words)\n",
        "\n",
        "word_lengths_list = list(word_lengths)\n",
        "\n",
        "\n",
        "for length in word_lengths_list:\n",
        "    print(length)\n"
      ],
      "metadata": {
        "colab": {
          "base_uri": "https://localhost:8080/"
        },
        "id": "6v1md2BV0i_1",
        "outputId": "a31ccef2-c403-4c78-ac3b-395e9c9353a6"
      },
      "execution_count": 62,
      "outputs": [
        {
          "output_type": "stream",
          "name": "stdout",
          "text": [
            "5\n",
            "6\n",
            "6\n",
            "4\n",
            "10\n"
          ]
        }
      ]
    },
    {
      "cell_type": "code",
      "source": [
        "#Que number 6 #How can you use the `map()` function to apply a custom function to elements of multiple lists simultaneously in Python?\n"
      ],
      "metadata": {
        "id": "tliBqwxe0xPf"
      },
      "execution_count": 63,
      "outputs": []
    },
    {
      "cell_type": "code",
      "source": [
        "\n",
        "def custom_function(x, y):\n",
        "    # Perform some operation using elements from x and y\n",
        "    return x + y  # Example: Adding elements from both lists\n",
        "\n",
        "# Create two lists\n",
        "list1 = [1, 2, 3, 4, 5]\n",
        "list2 = [10, 20, 30, 40, 50]\n",
        "\n",
        "# Use map() to apply the custom function to elements of both lists\n",
        "result = map(custom_function, list1, list2)\n",
        "\n",
        "# Convert the result to a list (optional)\n",
        "result_list = list(result)\n",
        "\n",
        "\n",
        "print(result_list)\n"
      ],
      "metadata": {
        "colab": {
          "base_uri": "https://localhost:8080/"
        },
        "id": "bUdkBR6d1AY1",
        "outputId": "ccb22208-9246-4041-b81f-cf55ca0c4f6d"
      },
      "execution_count": 64,
      "outputs": [
        {
          "output_type": "stream",
          "name": "stdout",
          "text": [
            "[11, 22, 33, 44, 55]\n"
          ]
        }
      ]
    },
    {
      "cell_type": "code",
      "source": [
        "#Que number 7 #Create a Python program that uses `map()` to convert a list of temperatures from Celsius to Fahrenheit.\n"
      ],
      "metadata": {
        "id": "0xB5xsG_2bH2"
      },
      "execution_count": 65,
      "outputs": []
    },
    {
      "cell_type": "code",
      "source": [
        "def celsius_to_fahrenheit(celsius):\n",
        "    return (celsius * 9/5) + 32\n",
        "\n",
        "# Create a list of temperatures in Celsius\n",
        "celsius_temperatures = [0, 10, 20, 30, 40]\n",
        "\n",
        "# Use map() to apply the conversion function to each temperature in the list\n",
        "fahrenheit_temperatures = map(celsius_to_fahrenheit, celsius_temperatures)\n",
        "\n",
        "# Convert the result to a list (optional)\n",
        "fahrenheit_temperatures_list = list(fahrenheit_temperatures)\n",
        "\n",
        "# Print the list of temperatures in Fahrenheit\n",
        "for temp in fahrenheit_temperatures_list:\n",
        "    print(f\"{temp:.2f} °F\")\n"
      ],
      "metadata": {
        "colab": {
          "base_uri": "https://localhost:8080/"
        },
        "id": "85eObMH42jFa",
        "outputId": "702180ba-2488-4bb0-a8ea-eb4dfe31062b"
      },
      "execution_count": 66,
      "outputs": [
        {
          "output_type": "stream",
          "name": "stdout",
          "text": [
            "32.00 °F\n",
            "50.00 °F\n",
            "68.00 °F\n",
            "86.00 °F\n",
            "104.00 °F\n"
          ]
        }
      ]
    },
    {
      "cell_type": "code",
      "source": [
        "#Que number 8 #Write a Python program that uses the `map()` function to round each element of a list of floating-point numbers to the nearest integer.\n"
      ],
      "metadata": {
        "id": "cG5C9ANE2oNN"
      },
      "execution_count": 67,
      "outputs": []
    },
    {
      "cell_type": "code",
      "source": [
        "float_numbers = [3.14, 2.718, 1.618, 4.669, 0.577]\n",
        "\n",
        "# Define a function to round a number to the nearest integer\n",
        "def round_to_nearest_integer(number):\n",
        "    return round(number)\n",
        "\n",
        "# Use map() to apply the rounding function to each element in the list\n",
        "rounded_numbers = map(round_to_nearest_integer, float_numbers)\n",
        "\n",
        "# Convert the result to a list (optional)\n",
        "rounded_numbers_list = list(rounded_numbers)\n",
        "\n",
        "\n",
        "for number in rounded_numbers_list:\n",
        "    print(number)\n"
      ],
      "metadata": {
        "colab": {
          "base_uri": "https://localhost:8080/"
        },
        "id": "-K9oCun62xKq",
        "outputId": "e764c825-01f4-400f-800e-55f29f40ee9d"
      },
      "execution_count": 68,
      "outputs": [
        {
          "output_type": "stream",
          "name": "stdout",
          "text": [
            "3\n",
            "3\n",
            "2\n",
            "5\n",
            "1\n"
          ]
        }
      ]
    },
    {
      "cell_type": "code",
      "source": [],
      "metadata": {
        "id": "KcgpkHfK21xu"
      },
      "execution_count": null,
      "outputs": []
    }
  ]
}